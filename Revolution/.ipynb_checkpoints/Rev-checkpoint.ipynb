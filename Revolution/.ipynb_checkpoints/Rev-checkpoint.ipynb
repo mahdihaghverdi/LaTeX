{
 "cells": [
  {
   "cell_type": "markdown",
   "id": "58042f77-b939-49e8-a82e-81aa8c42d362",
   "metadata": {
    "slideshow": {
     "slide_type": "slide"
    },
    "tags": []
   },
   "source": [
    "## UK 1688 (Glorious Revolution)"
   ]
  },
  {
   "cell_type": "markdown",
   "id": "4e69b6a5-c533-48df-8ed3-f13f8a0cb053",
   "metadata": {
    "slideshow": {
     "slide_type": "slide"
    },
    "tags": []
   },
   "source": [
    "![](./images/1.png)"
   ]
  },
  {
   "cell_type": "markdown",
   "id": "dbdd645e-ceb1-4b35-a9e0-d82ea4330471",
   "metadata": {
    "slideshow": {
     "slide_type": "subslide"
    },
    "tags": []
   },
   "source": [
    "![](./images/2.png)"
   ]
  },
  {
   "cell_type": "markdown",
   "id": "d6ffb523-7889-4368-bc8b-ef97203322fc",
   "metadata": {
    "slideshow": {
     "slide_type": "subslide"
    },
    "tags": []
   },
   "source": [
    "![](./images/3.png)"
   ]
  },
  {
   "cell_type": "markdown",
   "id": "8ce9446c-c6ca-47f4-b7ff-1083a5e02a33",
   "metadata": {
    "slideshow": {
     "slide_type": "subslide"
    },
    "tags": []
   },
   "source": [
    "![](./images/4.png)\n",
    "\n",
    "`William III`"
   ]
  },
  {
   "cell_type": "markdown",
   "id": "bc7c0346-d9c3-4fea-b00c-4eb6680a1d21",
   "metadata": {
    "slideshow": {
     "slide_type": "subslide"
    },
    "tags": []
   },
   "source": [
    "![](./images/5.png)\n",
    "\n",
    "`Mary II`"
   ]
  },
  {
   "cell_type": "markdown",
   "id": "354a82b2-b1ba-48de-9ee9-82663fc31401",
   "metadata": {
    "slideshow": {
     "slide_type": "slide"
    },
    "tags": []
   },
   "source": [
    "![](./images/6.png)"
   ]
  },
  {
   "cell_type": "markdown",
   "id": "4deac35a-9a26-4ec2-91ed-5793daddc2a0",
   "metadata": {
    "slideshow": {
     "slide_type": "subslide"
    },
    "tags": []
   },
   "source": [
    "![](./images/7.png)"
   ]
  },
  {
   "cell_type": "markdown",
   "id": "cc5d3000-1733-4fb3-bf9e-da64e6ad5028",
   "metadata": {
    "slideshow": {
     "slide_type": "subslide"
    },
    "tags": []
   },
   "source": [
    "![](./images/8.png)"
   ]
  },
  {
   "cell_type": "markdown",
   "id": "b04799d8-c974-40d7-880e-663cfa643786",
   "metadata": {
    "slideshow": {
     "slide_type": "subslide"
    },
    "tags": []
   },
   "source": [
    "![](./images/9.png)"
   ]
  },
  {
   "cell_type": "markdown",
   "id": "7143d892-0e03-4f0b-a89c-fe0e0fdb27a7",
   "metadata": {
    "slideshow": {
     "slide_type": "slide"
    },
    "tags": []
   },
   "source": [
    "![](./images/10.png)"
   ]
  },
  {
   "cell_type": "markdown",
   "id": "0fe02683-7d11-46aa-9ca6-a4a10a7830e3",
   "metadata": {
    "slideshow": {
     "slide_type": "subslide"
    },
    "tags": []
   },
   "source": [
    "![](./images/11.png)"
   ]
  },
  {
   "cell_type": "markdown",
   "id": "feb0dba7-873b-47f3-b922-ae89b5f8051a",
   "metadata": {
    "slideshow": {
     "slide_type": "slide"
    },
    "tags": []
   },
   "source": [
    "# Resources\n",
    "\n",
    "- [https://www.britannica.com/event/Glorious-Revolution](https://www.britannica.com/event/Glorious-Revolution)"
   ]
  }
 ],
 "metadata": {
  "kernelspec": {
   "display_name": "Python 3 (ipykernel)",
   "language": "python",
   "name": "python3"
  },
  "language_info": {
   "codemirror_mode": {
    "name": "ipython",
    "version": 3
   },
   "file_extension": ".py",
   "mimetype": "text/x-python",
   "name": "python",
   "nbconvert_exporter": "python",
   "pygments_lexer": "ipython3",
   "version": "3.10.6"
  }
 },
 "nbformat": 4,
 "nbformat_minor": 5
}
