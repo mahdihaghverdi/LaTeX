{
 "cells": [
  {
   "cell_type": "markdown",
   "id": "63c799ec-6f64-4c3e-a57c-de80dc4f86f1",
   "metadata": {
    "slideshow": {
     "slide_type": "slide"
    },
    "tags": []
   },
   "source": [
    "# UK Parliament"
   ]
  },
  {
   "cell_type": "markdown",
   "id": "1e1f77c7-e69e-4c30-9c9b-b9e7fed955d1",
   "metadata": {
    "slideshow": {
     "slide_type": "fragment"
    },
    "tags": []
   },
   "source": [
    "#### The UK Parliament has two Houses that work on behalf of UK citizens to check and challenge the work of Government, make and shape effective laws, and debate/make decisions on the big issues of the day. "
   ]
  },
  {
   "cell_type": "markdown",
   "id": "7013b7dc-a2ce-46fb-8053-71843e931ec4",
   "metadata": {
    "slideshow": {
     "slide_type": "slide"
    },
    "tags": []
   },
   "source": [
    "# Overview"
   ]
  },
  {
   "cell_type": "markdown",
   "id": "8760375d-31b9-486a-af72-e760173281d6",
   "metadata": {
    "slideshow": {
     "slide_type": "subslide"
    },
    "tags": []
   },
   "source": [
    "In this slides I will talk about:"
   ]
  },
  {
   "cell_type": "markdown",
   "id": "d873bbec-6688-40cb-a9a9-b4fee4324c9d",
   "metadata": {
    "slideshow": {
     "slide_type": "subslide"
    },
    "tags": []
   },
   "source": [
    "- ## House of Commons\n",
    "  - ### Governance of the House of Commons\n",
    "    - #### The House of Commons Commission\n",
    "    - #### Membership\n",
    "      - ##### Core membership\n",
    "      - ##### In addition\n",
    "    - #### The speaker\n",
    "    - #### Clerk of the House of Commons"
   ]
  },
  {
   "cell_type": "markdown",
   "id": "b74ae8bd-9038-485e-b5b2-c2539b2fa165",
   "metadata": {
    "slideshow": {
     "slide_type": "subslide"
    },
    "tags": []
   },
   "source": [
    "- ## House of Lords\n",
    "  - ### Work of the House of Lords \n",
    "  - ### The Lord Speaker\n",
    "    - #### The Lord Speaker's role\n",
    "    - #### Lord Speaker's role in the chamber\n",
    "  - ### Who's in the House of Lords"
   ]
  },
  {
   "cell_type": "markdown",
   "id": "20fc4997-0cdc-448e-9efc-819eb8a5e202",
   "metadata": {
    "slideshow": {
     "slide_type": "slide"
    },
    "tags": []
   },
   "source": [
    "# House of Commons"
   ]
  },
  {
   "cell_type": "markdown",
   "id": "e6be4147-ca6d-4778-835b-5044325835a0",
   "metadata": {
    "slideshow": {
     "slide_type": "fragment"
    },
    "tags": []
   },
   "source": [
    "#### The UK public elects 650 Members of Parliament (MPs) to represent their interests and concerns in the House of Commons. MPs consider and propose new laws, and can scrutinise government policies by asking ministers questions about current issues either in the Commons Chamber or in Committees."
   ]
  },
  {
   "cell_type": "markdown",
   "id": "7c14f8da-623d-4dfa-bb42-2d11b78978c1",
   "metadata": {
    "slideshow": {
     "slide_type": "slide"
    },
    "tags": []
   },
   "source": [
    "## Governance of the House of Commons\n",
    "\n",
    "The House of Commons is governed by a group of MPs who make up the House of Commons Commission. The day to day running of the House is delegated to senior officials on the House of Commons Executive Board. This page sets out information on the work and membership of the governing bodies and supporting committees, related publications, policies, and business and financial information relating to the House of Commons"
   ]
  },
  {
   "cell_type": "markdown",
   "id": "3424076b-ee88-4ee0-8bbd-7d91e5fe3144",
   "metadata": {
    "slideshow": {
     "slide_type": "slide"
    },
    "tags": []
   },
   "source": [
    "## The House of Commons Commission\n",
    "\n",
    "The Commission is responsible for the administration and services of the House of Commons, including the maintenance of the Palace of Westminster and the rest of the Parliamentary Estate."
   ]
  },
  {
   "cell_type": "markdown",
   "id": "4feab36a-c1a6-441c-9ee8-ad206bef16f9",
   "metadata": {
    "slideshow": {
     "slide_type": "subslide"
    },
    "tags": []
   },
   "source": [
    "Once a year the Commission presents to the House for its approval the 'Estimate for House of Commons: Administration', covering spending on the administration and services of the House for the financial year. The Commission meets approximately once a month in Speaker's House.\n",
    "\n",
    "The Commission provides the non-executive governance of the House by Members, but it does not manage day to day operations. These are delegated to the Commons Executive Board."
   ]
  },
  {
   "cell_type": "markdown",
   "id": "f86855c1-7c78-41d9-b4f7-9bc914e6e0a2",
   "metadata": {
    "slideshow": {
     "slide_type": "subslide"
    },
    "tags": []
   },
   "source": [
    "The Commons Executive Board's main delegated responsibilities are delivery of the strategy as agreed by the Commission and ensuring that the terms and conditions of staff are consistent with the Commission's statutory duties. The Commons Executive Board is chaired by the Clerk of the House of Commons; see the full [membership of the Commons Executive Board](https://www.parliament.uk/mps-lords-and-offices/offices/commons/the-board/board-membership/) for further details.\n",
    "\n",
    "The Commission is not responsible for expenditure on Members' salaries, pensions and allowances. Members' pensions are considered by the Members Estimate Committee, which has the same membership as the Commission. Salaries and allowances are considered by the [Independent Parliamentary Standards Authority (IPSA)](http://www.theipsa.org.uk/). "
   ]
  },
  {
   "cell_type": "markdown",
   "id": "421cc3ff-80f4-4857-bf22-3d78797fbe45",
   "metadata": {
    "slideshow": {
     "slide_type": "slide"
    },
    "tags": []
   },
   "source": [
    "## Membership\n",
    "- ### Core membership\n",
    "  - Clerk of the House (Chair)\n",
    "  - Director General\n",
    "  - Clerk Assistant and Managing Director, Chamber and Committees\n",
    "  - Librarian and Managing Director, Participation and Research and Information; Managing Director,\n",
    "  - Corporate Services and Finance Director\n",
    "  - Managing Director, In-House Services\n",
    "  - Director of the Parliamentary Digital Service\n",
    "  - Director of Security for Parliament\n",
    "  - Managing Director, Strategic Estates"
   ]
  },
  {
   "cell_type": "markdown",
   "id": "29979884-c7d0-4a3c-975a-02a9e7c6a6f5",
   "metadata": {
    "slideshow": {
     "slide_type": "subslide"
    },
    "tags": []
   },
   "source": [
    "- ### In addition\n",
    "  - The Head of the Governance Office \n",
    "  - The Head of Communications\n",
    "  - The Customer Director\n",
    "  - The Director of People"
   ]
  },
  {
   "cell_type": "markdown",
   "id": "f432d205-86a0-4d5b-8de2-4f568bf12753",
   "metadata": {
    "slideshow": {
     "slide_type": "slide"
    },
    "tags": []
   },
   "source": [
    "## The speaker\n",
    "\n",
    "The Speaker of the House of Commons chairs debates in the Commons chamber. The holder of this office is an MP who has been elected to be Speaker by other Members of Parliament. During debates they keep order and call MPs to speak."
   ]
  },
  {
   "cell_type": "markdown",
   "id": "a49daa07-b433-4537-9a46-3cd2abc4bbfc",
   "metadata": {
    "slideshow": {
     "slide_type": "subslide"
    },
    "tags": []
   },
   "source": [
    "![speaker-uk-parliament-roger-harris.webp](./images/speaker-uk-parliament-roger-harris.webp)\n",
    "\n",
    "\n",
    "**Rt Hon Sir Lindsay Hoyle**\n",
    "\n",
    "The Rt Hon Sir Lindsay Hoyle, Member of Parliament for the constituency of Chorley, Lancashire, has held the office of Speaker of the House of Commons since 4 November 2019."
   ]
  },
  {
   "cell_type": "markdown",
   "id": "b1510269-43aa-4b1d-90e3-b44ed2acd5ee",
   "metadata": {
    "slideshow": {
     "slide_type": "slide"
    },
    "tags": []
   },
   "source": [
    "## Clerk of the House of Commons\n",
    "\n",
    "The Clerk of the House is the principal constitutional adviser to the House, and adviser on all its procedure and business, including Parliamentary privilege, and frequently appears before Select and Joint Committees examining constitutional and Parliamentary matters. As with all the members of the House Service, he is politically entirely impartial and is not a civil servant. _The current Clerk of the House is John Benger._"
   ]
  },
  {
   "cell_type": "markdown",
   "id": "8a7d1772-70a9-441c-980b-8019231b47d1",
   "metadata": {
    "slideshow": {
     "slide_type": "subslide"
    },
    "tags": []
   },
   "source": [
    "The Clerk of the House sits at the Table of the House, in the left-hand chair, looking towards the Speaker's Chair, for part of every sitting. The historic role of the Clerks at the Table is to record the decisions of the House which they continue to do. This is not to be confused with Hansard, which is a record of what is said. The Clerks at the Table are consulted by the Chair, Ministers, Whips, and Members generally, on any matter that may arise in the conduct of a sitting.\n",
    "\n",
    "The Clerks at the Table wear dark suits, black gowns and white bow ties (for men) or bands (for women). For the State Opening of Parliament and other State occasions, the Clerk of the House wears full Court dress with wing collar, white bow tie, black gown, a “bob” (barrister's) wig, and a lace jabot and cuffs."
   ]
  },
  {
   "cell_type": "markdown",
   "id": "fc50b3a4-4763-487f-80ce-7f5333fb0ee6",
   "metadata": {
    "slideshow": {
     "slide_type": "slide"
    },
    "tags": []
   },
   "source": [
    "# House of Lords"
   ]
  },
  {
   "cell_type": "markdown",
   "id": "66cab257-ae26-4f71-bf3d-f38d85a3def2",
   "metadata": {
    "slideshow": {
     "slide_type": "slide"
    },
    "tags": []
   },
   "source": [
    "## House of Lords\n",
    "\n",
    "The House of Lords is the second chamber of UK Parliament. It plays a crucial role in examining bills, questioning government action and investigating public policy. "
   ]
  },
  {
   "cell_type": "markdown",
   "id": "2d145a1b-6ad8-4f83-b7eb-2d62624b9ad1",
   "metadata": {
    "slideshow": {
     "slide_type": "slide"
    },
    "tags": []
   },
   "source": [
    "## Work of the House of Lords \n",
    "\n",
    "The House of Lords is the second chamber of the UK Parliament. It is independent from, and complements the work of, the elected House of Commons. The Lords shares the task of making and shaping laws and checking and challenging the work of the government."
   ]
  },
  {
   "cell_type": "markdown",
   "id": "7bc4938e-83e7-4a5b-b81b-9ea953205e33",
   "metadata": {
    "slideshow": {
     "slide_type": "slide"
    },
    "tags": []
   },
   "source": [
    "## The Lord Speaker\n",
    "\n",
    "The Lord Speaker chairs daily business in the House of Lords chamber and is an ambassador for the work of the House. Lord McFall of Alcluith is the fourth Lord Speaker, and was elected by Lords members in 2021."
   ]
  },
  {
   "cell_type": "markdown",
   "id": "9c06b722-5540-4e42-9e0c-9905b4b722b3",
   "metadata": {
    "slideshow": {
     "slide_type": "subslide"
    },
    "tags": []
   },
   "source": [
    "### The Lord Speaker's role\n",
    "**Lord McFall of Alcluith was elected by members of the House of Lords as the fourth Lord Speaker in April 2021 and took office on 1 May 2021.**\n",
    "\n",
    "![](./images/loadspeaker.jpg)"
   ]
  },
  {
   "cell_type": "markdown",
   "id": "4e1a9b02-c0a8-4994-842b-4a7b5a5800d6",
   "metadata": {
    "slideshow": {
     "slide_type": "subslide"
    },
    "tags": []
   },
   "source": [
    "The Lord Speaker oversees proceedings in the Lords chamber and plays a key role in the Lords Administration. The Lord Speaker also acts as an ambassador for the Lords at home and abroad, explaining and promoting the work of the House of Lords and its contribution to the UK's parliamentary system."
   ]
  },
  {
   "cell_type": "markdown",
   "id": "917c566c-efec-4c77-bed6-b0ad3416c28d",
   "metadata": {
    "slideshow": {
     "slide_type": "slide"
    },
    "tags": []
   },
   "source": [
    "### Lord Speaker's role in the chamber\n",
    "\n",
    "The Lord Speaker is the presiding officer in the House of Lords. However, as the House of Lords is self-regulating, the Lord Speaker guides and assists the House during debate, rather than controlling or managing it.\n",
    "\n",
    "The Lord Speaker has no power to call members to order, to decide who speaks next, or to select amendments, but does call amendments, collect the voices and call for divisions (votes) when necessary.\n",
    "\n",
    "Deputy Speakers assist the Lord Speaker and sit on the Woolsack in the Lord Speaker's absence. They are all members of the Lords and may continue to engage in party politics while serving as Deputies."
   ]
  },
  {
   "cell_type": "markdown",
   "id": "562c9d97-dc0b-4e59-b506-c98865b2f9b4",
   "metadata": {
    "slideshow": {
     "slide_type": "slide"
    },
    "tags": []
   },
   "source": [
    "## Who's in the House of Lords\n",
    "\n",
    "Members of the House of Lords bring experience and knowledge from a wide range of occupations. Many members continue to be active in their fields and have successful careers in business, culture, science, sports, academia, law, education, health and public service. They bring this knowledge to their role of examining matters of public interest that affect all UK citizens."
   ]
  },
  {
   "cell_type": "markdown",
   "id": "e3c0f8f4-a2ec-4fe8-9262-b209d2781478",
   "metadata": {
    "slideshow": {
     "slide_type": "slide"
    },
    "tags": []
   },
   "source": [
    "# Resources\n",
    "\n",
    "## [https://www.parliament.uk/](https://www.parliament.uk/)"
   ]
  }
 ],
 "metadata": {
  "kernelspec": {
   "display_name": "Python 3 (ipykernel)",
   "language": "python",
   "name": "python3"
  },
  "language_info": {
   "codemirror_mode": {
    "name": "ipython",
    "version": 3
   },
   "file_extension": ".py",
   "mimetype": "text/x-python",
   "name": "python",
   "nbconvert_exporter": "python",
   "pygments_lexer": "ipython3",
   "version": "3.10.6"
  }
 },
 "nbformat": 4,
 "nbformat_minor": 5
}
